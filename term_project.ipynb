{
 "cells": [
  {
   "cell_type": "markdown",
   "id": "17920fca-9d9a-468e-b443-3bd89dfecf3a",
   "metadata": {},
   "source": [
    "# Predicting Student Grades Based on Demographic Information and Identifying the Factors that Contribute to Student Success\n",
    "CS567 - Term Project\n",
    "\n",
    "Team Members: Alekzander Green, Aakansha Arora"
   ]
  },
  {
   "cell_type": "markdown",
   "id": "db04bd84-ca4c-4584-b92a-0ac954a5c5d4",
   "metadata": {},
   "source": [
    "## Background\n",
    "Many people attribute the success of a student to the student themselves. If a student is doing well in school, they may be celebrated by their family and educators, while a student who is not doing well may be looked down on by the same people. However, more recent research is beginning to reveal that the success of a student may be tied more closely to their demographics, environment, and family relationships than were previously thought.\n",
    "\n",
    "With this in mind, we would like to take student demographic, environmental, and educational data and use this information to predict a student’s level of educational success. We can then interpret the model to see how important the individual features are to the outcome. This can help reveal behaviors and environments that encourage student success.\n"
   ]
  },
  {
   "cell_type": "markdown",
   "id": "54c18381-ffb8-4310-9e91-569bf9d4c06c",
   "metadata": {},
   "source": [
    "## Problem Statement\n",
    "Given a training set of information related to a student’s demographics, attitudes, family, we want to make predictions about the students. Our main problem is that we would like to use this information to predict a student’s final grades without using previous grades. \n",
    "\n",
    "Additionally, we may be able to complete clustering on the data to see how various levels of achievement are related to different environmental, demographic, and family factors.\n"
   ]
  },
  {
   "cell_type": "markdown",
   "id": "f42f9c73-d299-4e44-a5af-f02a35fb2e53",
   "metadata": {},
   "source": [
    "## Objectives\n",
    "By the end of the project, we aim to complete the following:\n",
    " - Gather and explore data\n",
    " - Perform feature engineering and selection\n",
    " - Choose, train, and test an accurate predictive model\n",
    " - Tune the model for better accuracy\n",
    " - Generate insights into the results\n",
    " - Share results\n"
   ]
  },
  {
   "cell_type": "markdown",
   "id": "576a7cc6-84f1-40e0-be26-595b39b909d9",
   "metadata": {},
   "source": [
    "## Datasets\n",
    "We will be doing an analysis of the following dataset:\n",
    "http://archive.ics.uci.edu/dataset/320/student+performance [1].\n",
    "\n",
    "This dataset contains data regarding student performance in a mathematics class in secondary school. This dataset contains data relating to gender, age, family, health, grades, and more. There are thirty-three unique features and nearly four hundred instances. Each of the students went to one of two schools in Portugal and were between the ages of 15 and 22. This data was originally found using Kaggle, but the above link seems to be the original source [2].\n"
   ]
  },
  {
   "cell_type": "markdown",
   "id": "949969ab-b878-4b1f-8fd2-6c886978e87e",
   "metadata": {},
   "source": [
    "## Literature Review\n",
    "There are many academic and scholarly sources to support the idea that a student’s demographics, family, environment, activities, etc. have a significant impact on that student’s academic success. We reviewed a few of these articles to better support our project.\n",
    "\n",
    "Our first study investigated the higher educational attainment of youth who come from different economic backgrounds. This study found that an increase in the Earned Income Tax Credit (EITC) was able to increase college enrollment by a conservative estimate of around 1% [3]. This clearly is not much, but this effect was caused by an increase of only $1,000; bridging larger gaps in income may be able to increase this significantly.\n",
    "\n",
    "Our second study investigated how student achievement is impacted by time spent studying and time spent playing video games. This study was initially started because of previous studies that showed female students having higher grades than male students, and that men are reported to play video games more than women. This study found that female students tended to study more around exam periods while male students continued to play video games; this led to the expected outcome that the female students performed better on these exams [4].\n",
    "\n",
    "Another study investigated the relationship between parental employment and their children’s academic success. This article found that parents with active engagement in the labor market had a positive effect on a student’s academic performance [5].\n",
    "\n",
    "The last study that was reviewed investigated how family income, education, and employment affected the way that family social capital influenced a student’s academic achievement. This study found that different demographics of students were impacted differently, but that there was some sort of impact [6].\n"
   ]
  },
  {
   "cell_type": "markdown",
   "id": "b6ef7244-3c69-47f7-8b24-40395486903e",
   "metadata": {},
   "source": [
    "## Timeline\n",
    "Below is the expected timeline for the project.\n",
    "\n",
    "| Date | Milestone |\n",
    "| ---- | --------- |\n",
    "|09/14 |Submit project proposal\n",
    "|09/22 |\tFinish exploratory data analysis (EDA)\n",
    "|09/29 |\tFinish feature selection and engineering\n",
    "|10/06 |\tFinish model selection\n",
    "|10/13 |\tFinish model training and testing\n",
    "|10/20 |\tFinish tuning the model\n",
    "|10/27 |\tFinish interpreting and gathering insights on the model\n",
    "|11/03 |\tBegin work on final paper and presentation\n",
    "|12/12 |\tSubmit final paper, presentation, and project\n"
   ]
  },
  {
   "cell_type": "markdown",
   "id": "bc5c0d3c-2fc1-4604-89be-6dcacae0765b",
   "metadata": {},
   "source": [
    "## References\n",
    "\n",
    "[1] \tP. Cortez, \"Student Performance,\" 2014. [Online]. Available: http://archive.ics.uci.edu/dataset/320/student+performance. [Accessed 13 September 2023].\n",
    "\n",
    "[2] \tD. Ansodariya, \"Student Performance Dataset,\" 2022. [Online]. Available: https://www.kaggle.com/datasets/devansodariya/student-performance-data. [Accessed 13 September 2023].\n",
    "\n",
    "[3] \tK. Michelmore, \"The Effect of Income on Educational Attainment: Evidence from State Earned Income Tax Credit Expansions,\" SSRN, 2013. \n",
    "\n",
    "[4] \tS. Adžić, T. S. Tot, V. Savić, M. Runić-Ristić and Vilmoš, \"Student Achievement in Relation to Time Spent Studying and Playing Video Games: A Gender Perspective.,\" TEM Journal, vol. 12, no. 2, pp. 832-839, 2023. \n",
    "\n",
    "[5] \tR. Magdalena, \"Do mothers' and fathers' work involvement matter for teenagers' school outcomes?,\" British Educational Research Journal, vol. 42, no. 1, pp. 117-134, 2016. \n",
    "\n",
    "[6] \tE. Oyefuga and C. Shakeshaft, \"Social Capital and the Higher Education Academic Achievement: Using Cross-Classified Multilevel Models to Understanding the Impact of Society on Educational Outcomes.,\" Youth & Society, vol. 55, no. 1, pp. 163-183, 2023. \n",
    "\n",
    "\n"
   ]
  },
  {
   "cell_type": "markdown",
   "id": "0740faac-4902-462d-8c6c-8b7dffe05561",
   "metadata": {},
   "source": [
    "## Exploratory Data Analysis (EDA)"
   ]
  }
 ],
 "metadata": {
  "kernelspec": {
   "display_name": "Python 3 (ipykernel)",
   "language": "python",
   "name": "python3"
  },
  "language_info": {
   "codemirror_mode": {
    "name": "ipython",
    "version": 3
   },
   "file_extension": ".py",
   "mimetype": "text/x-python",
   "name": "python",
   "nbconvert_exporter": "python",
   "pygments_lexer": "ipython3",
   "version": "3.11.5"
  }
 },
 "nbformat": 4,
 "nbformat_minor": 5
}
